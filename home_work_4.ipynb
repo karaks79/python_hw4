{
 "cells": [
  {
   "cell_type": "code",
   "execution_count": 1,
   "metadata": {},
   "outputs": [],
   "source": [
    "# Домашняя работа-4 (к лекции от 06.12.2018)"
   ]
  },
  {
   "cell_type": "code",
   "execution_count": 3,
   "metadata": {
    "scrolled": true
   },
   "outputs": [
    {
     "data": {
      "text/plain": [
       "'\\nНапишите функцию date_range, которая возвращает список дней между датами start_date и end_date. \\nДаты должны вводиться в формате YYYY-MM-DD.\\n'"
      ]
     },
     "execution_count": 3,
     "metadata": {},
     "output_type": "execute_result"
    }
   ],
   "source": [
    "# Задание-1\n",
    "'''Напишите функцию date_range, которая возвращает список дней между датами start_date и end_date. \n",
    "Даты должны вводиться в формате YYYY-MM-DD.'''"
   ]
  },
  {
   "cell_type": "code",
   "execution_count": 5,
   "metadata": {},
   "outputs": [],
   "source": [
    "from datetime import datetime\n",
    "from datetime import timedelta"
   ]
  },
  {
   "cell_type": "code",
   "execution_count": 22,
   "metadata": {},
   "outputs": [],
   "source": [
    "def data_range(start_date, end_date):\n",
    "    '''Возвращает список дней между датами start_date и end_date (включая обе даты)'''\n",
    "    \n",
    "    dt_start_date = datetime.strptime( start_date, '%Y-%m-%d' )\n",
    "    dt_end_date = datetime.strptime( end_date, '%Y-%m-%d' )\n",
    "    \n",
    "    list_dates = []\n",
    "    current_date = dt_start_date\n",
    "    \n",
    "    while current_date <= dt_end_date:\n",
    "        list_dates.append( current_date.strftime('%Y-%m-%d') )\n",
    "        current_date += timedelta(days=1)\n",
    "        \n",
    "    return list_dates"
   ]
  },
  {
   "cell_type": "code",
   "execution_count": 23,
   "metadata": {
    "scrolled": true
   },
   "outputs": [
    {
     "name": "stdout",
     "output_type": "stream",
     "text": [
      "['2018-02-27', '2018-02-28', '2018-03-01', '2018-03-02', '2018-03-03']\n"
     ]
    }
   ],
   "source": [
    "str_date_1 = '2018-02-27'\n",
    "str_date_2 = '2018-03-03'\n",
    "\n",
    "print(data_range(str_date_1, str_date_2))"
   ]
  },
  {
   "cell_type": "code",
   "execution_count": null,
   "metadata": {},
   "outputs": [],
   "source": []
  },
  {
   "cell_type": "code",
   "execution_count": 12,
   "metadata": {},
   "outputs": [
    {
     "data": {
      "text/plain": [
       "'Дополните функцию из первого задания проверкой на корректность дат. \\nВ случае неверного формата или если start_date > end_date должен возвращаться пустой список.'"
      ]
     },
     "execution_count": 12,
     "metadata": {},
     "output_type": "execute_result"
    }
   ],
   "source": [
    "# Задание-2\n",
    "'''Дополните функцию из первого задания проверкой на корректность дат. \n",
    "В случае неверного формата или если start_date > end_date должен возвращаться пустой список.'''"
   ]
  },
  {
   "cell_type": "code",
   "execution_count": 26,
   "metadata": {},
   "outputs": [],
   "source": [
    "def data_range_with_check(start_date, end_date):\n",
    "    '''Возвращает список дней между датами start_date и end_date (включая обе даты)'''\n",
    "    \n",
    "    try:\n",
    "        dt_start_date = datetime.strptime( start_date, '%Y-%m-%d' )\n",
    "        \n",
    "    except ValueError:\n",
    "        print('Неверный формат даты', start_date)\n",
    "        return []\n",
    "    \n",
    "    try:\n",
    "        dt_end_date = datetime.strptime( end_date, '%Y-%m-%d' )\n",
    "        \n",
    "    except ValueError:\n",
    "        print('Неверный формат даты', end_date)\n",
    "        return []\n",
    "    \n",
    "    if dt_start_date > dt_end_date:\n",
    "        print('Начальная дата больше конечной!')\n",
    "        return []\n",
    "    \n",
    "    list_dates = []\n",
    "    current_date = dt_start_date\n",
    "    \n",
    "    while current_date <= dt_end_date:\n",
    "        list_dates.append( current_date.strftime('%Y-%m-%d') )\n",
    "        current_date += timedelta(days=1)\n",
    "        \n",
    "    return list_dates"
   ]
  },
  {
   "cell_type": "code",
   "execution_count": 32,
   "metadata": {},
   "outputs": [
    {
     "name": "stdout",
     "output_type": "stream",
     "text": [
      "['2018-02-21', '2018-02-22', '2018-02-23', '2018-02-24', '2018-02-25', '2018-02-26', '2018-02-27', '2018-02-28', '2018-03-01', '2018-03-02', '2018-03-03']\n"
     ]
    }
   ],
   "source": [
    "str_date_1 = '2018-02-21'\n",
    "str_date_2 = '2018-03-03'\n",
    "\n",
    "print(data_range_with_check(str_date_1, str_date_2))"
   ]
  },
  {
   "cell_type": "code",
   "execution_count": null,
   "metadata": {},
   "outputs": [],
   "source": []
  },
  {
   "cell_type": "code",
   "execution_count": 33,
   "metadata": {},
   "outputs": [
    {
     "data": {
      "text/plain": [
       "\"Дан поток дат в формате YYYY-MM-DD, в которых встречаются некорректные значения:\\nstream = ['2018-04-02', '2018-02-29', '2018-19-02']\\nНапишите функцию, которая проверяет эти даты на корректность. \\nТ. е. для каждой даты возвращает True (дата корректна) или False (некорректная дата). \""
      ]
     },
     "execution_count": 33,
     "metadata": {},
     "output_type": "execute_result"
    }
   ],
   "source": [
    "# Задание-3\n",
    "'''Дан поток дат в формате YYYY-MM-DD, в которых встречаются некорректные значения:\n",
    "stream = ['2018-04-02', '2018-02-29', '2018-19-02']\n",
    "Напишите функцию, которая проверяет эти даты на корректность. \n",
    "Т. е. для каждой даты возвращает True (дата корректна) или False (некорректная дата). '''"
   ]
  },
  {
   "cell_type": "code",
   "execution_count": 39,
   "metadata": {},
   "outputs": [],
   "source": [
    "def check_stream(p_stream):\n",
    "    '''Проверяет даты списка stream на корректность. \n",
    "    Для каждой даты возвращает True (дата корректна) или False (некорректная дата).'''\n",
    "    \n",
    "    result = []\n",
    "    \n",
    "    for str_date in p_stream:\n",
    "        try:\n",
    "            datetime.strptime( str_date, '%Y-%m-%d' )\n",
    "            result.append(True)\n",
    "        except ValueError:\n",
    "            result.append(False)\n",
    "            \n",
    "    return result"
   ]
  },
  {
   "cell_type": "code",
   "execution_count": 40,
   "metadata": {},
   "outputs": [
    {
     "name": "stdout",
     "output_type": "stream",
     "text": [
      "[True, False, False]\n"
     ]
    }
   ],
   "source": [
    "stream = ['2018-04-02', '2018-02-29', '2018-19-02']\n",
    "\n",
    "print(check_stream(stream))"
   ]
  },
  {
   "cell_type": "code",
   "execution_count": null,
   "metadata": {},
   "outputs": [],
   "source": []
  },
  {
   "cell_type": "code",
   "execution_count": 38,
   "metadata": {},
   "outputs": [
    {
     "data": {
      "text/plain": [
       "'Напишите функцию, которая возвращает список дат с 1 по вчерашний день текущего месяца. \\nЕсли дан 1 день месяца, то возвращается список дней прошлого месяца.'"
      ]
     },
     "execution_count": 38,
     "metadata": {},
     "output_type": "execute_result"
    }
   ],
   "source": [
    "# Задание-4\n",
    "'''Напишите функцию, которая возвращает список дат с 1 по вчерашний день текущего месяца. \n",
    "Если дан 1 день месяца, то возвращается список дней прошлого месяца.'''"
   ]
  },
  {
   "cell_type": "code",
   "execution_count": 52,
   "metadata": {},
   "outputs": [],
   "source": [
    "def list_date_current_month(p_date=datetime.today()):\n",
    "    '''Возвращает список дат с 1 по вчерашний день текущего месяца. \n",
    "    Если дан 1-й день месяца, то возвращается список дней прошлого месяца.'''\n",
    "    \n",
    "    # Обрезаем часы, минуты, секунды\n",
    "    p_date = datetime(p_date.year, p_date.month, p_date.day, 0, 0, 0)\n",
    "    \n",
    "    if p_date.day == 1:\n",
    "        if p_date.month == 1:\n",
    "            current_date = datetime(p_date.year-1, 12, 1)\n",
    "        else:\n",
    "            current_date = datetime(p_date.year, p_date.month-1, 1)\n",
    "            \n",
    "    else:\n",
    "        current_date = datetime(p_date.year, p_date.month, 1)\n",
    "    \n",
    "    result = []\n",
    "    \n",
    "    while current_date < p_date:\n",
    "        result.append(current_date.strftime('%Y-%m-%d'))\n",
    "        current_date += timedelta(days=1)\n",
    "    \n",
    "    return result"
   ]
  },
  {
   "cell_type": "code",
   "execution_count": 55,
   "metadata": {},
   "outputs": [
    {
     "data": {
      "text/plain": [
       "['2018-12-01',\n",
       " '2018-12-02',\n",
       " '2018-12-03',\n",
       " '2018-12-04',\n",
       " '2018-12-05',\n",
       " '2018-12-06',\n",
       " '2018-12-07',\n",
       " '2018-12-08',\n",
       " '2018-12-09']"
      ]
     },
     "execution_count": 55,
     "metadata": {},
     "output_type": "execute_result"
    }
   ],
   "source": [
    "list_date_current_month()"
   ]
  },
  {
   "cell_type": "code",
   "execution_count": null,
   "metadata": {},
   "outputs": [],
   "source": []
  },
  {
   "cell_type": "code",
   "execution_count": 56,
   "metadata": {},
   "outputs": [
    {
     "data": {
      "text/plain": [
       "\"Напишите функцию, которая возвращает точную дату в формате YYYY-MM-DD по фразе:\\n1. 'today' - сегодняшнюю дату\\n2. 'last monday' -  прошлый понедельник\\n3. 'last day' - Последний день текущего месяца\""
      ]
     },
     "execution_count": 56,
     "metadata": {},
     "output_type": "execute_result"
    }
   ],
   "source": [
    "# Задание-5\n",
    "'''Напишите функцию, которая возвращает точную дату в формате YYYY-MM-DD по фразе:\n",
    "1. 'today' - сегодняшнюю дату\n",
    "2. 'last monday' -  прошлый понедельник\n",
    "3. 'last day' - Последний день текущего месяца'''"
   ]
  },
  {
   "cell_type": "code",
   "execution_count": 103,
   "metadata": {},
   "outputs": [],
   "source": [
    "def date_for_phrase(p_phrase):\n",
    "    '''Возвращает дату по фразе'''\n",
    "    \n",
    "    current_date = datetime.today()\n",
    "    \n",
    "    if p_phrase == 'today':   \n",
    "        result = current_date.strftime('%Y-%m-%d')\n",
    "        \n",
    "    elif p_phrase == 'last monday':\n",
    "        while current_date.weekday() != 0:\n",
    "            current_date -= timedelta(days=1)\n",
    "            \n",
    "        result = current_date.strftime('%Y-%m-%d')\n",
    "    \n",
    "    elif p_phrase == 'last day':\n",
    "        current_month = current_date.month \n",
    "        \n",
    "        while current_date.month == current_month:\n",
    "            current_date += timedelta(days=1)\n",
    "        current_date -= timedelta(days=1)\n",
    "        \n",
    "        result = current_date.strftime('%Y-%m-%d')\n",
    "    \n",
    "    return result"
   ]
  },
  {
   "cell_type": "code",
   "execution_count": 107,
   "metadata": {},
   "outputs": [
    {
     "data": {
      "text/plain": [
       "'2018-12-31'"
      ]
     },
     "execution_count": 107,
     "metadata": {},
     "output_type": "execute_result"
    }
   ],
   "source": [
    "#phrase = 'today'\n",
    "#phrase = 'last monday'\n",
    "phrase = 'last day'\n",
    "\n",
    "date_for_phrase(phrase)"
   ]
  },
  {
   "cell_type": "code",
   "execution_count": null,
   "metadata": {},
   "outputs": [],
   "source": []
  },
  {
   "cell_type": "code",
   "execution_count": 108,
   "metadata": {},
   "outputs": [
    {
     "data": {
      "text/plain": [
       "'Напишите функцию, которая разбивает на недели с понедельника по воскресенье интервал дат между start_date и end_date. \\nСчитайте, что входные данные всегда корректны. \\nВ ответ должны входить только полные недели.'"
      ]
     },
     "execution_count": 108,
     "metadata": {},
     "output_type": "execute_result"
    }
   ],
   "source": [
    "# Задание-6\n",
    "'''Напишите функцию, которая разбивает на недели с понедельника по воскресенье интервал дат между start_date и end_date. \n",
    "Считайте, что входные данные всегда корректны. \n",
    "В ответ должны входить только полные недели.'''"
   ]
  },
  {
   "cell_type": "code",
   "execution_count": 123,
   "metadata": {},
   "outputs": [],
   "source": [
    "def list_full_weeks(p_start_date, p_end_date):\n",
    "    '''Возвращает список полных недель из интервала (p_start_date, p_end_date)'''\n",
    "\n",
    "    dt_start_date = datetime.strptime(p_start_date, '%Y-%m-%d')\n",
    "    dt_end_date = datetime.strptime(p_end_date, '%Y-%m-%d')\n",
    "    \n",
    "    current_date = dt_start_date\n",
    "    # Списки понедельников и воскресениц, начиная с 1-го понедельника\n",
    "    lst_mondays = []\n",
    "    lst_sundays = [] \n",
    "    \n",
    "    # Ищем первый понедельник\n",
    "    while current_date < dt_end_date and current_date.weekday() != 0:\n",
    "        current_date += timedelta(days=1)\n",
    "    \n",
    "    if current_date.weekday() == 0:\n",
    "        \n",
    "        lst_mondays.append(current_date.strftime('%Y-%m-%d'))\n",
    "        current_date += timedelta(days=1)\n",
    "        \n",
    "        while current_date <= dt_end_date:\n",
    "            # Если понедельник\n",
    "            if current_date.weekday() == 0:\n",
    "                lst_mondays.append(current_date.strftime('%Y-%m-%d'))\n",
    "                \n",
    "            # Если воскресенье\n",
    "            if current_date.weekday() == 6:\n",
    "                lst_sundays.append(current_date.strftime('%Y-%m-%d'))\n",
    "                \n",
    "            current_date += timedelta(days=1)\n",
    "    \n",
    "    return list(zip(lst_mondays, lst_sundays))"
   ]
  },
  {
   "cell_type": "code",
   "execution_count": 132,
   "metadata": {},
   "outputs": [
    {
     "data": {
      "text/plain": [
       "[('2018-12-03', '2018-12-09'),\n",
       " ('2018-12-10', '2018-12-16'),\n",
       " ('2018-12-17', '2018-12-23'),\n",
       " ('2018-12-24', '2018-12-30'),\n",
       " ('2018-12-31', '2019-01-06')]"
      ]
     },
     "execution_count": 132,
     "metadata": {},
     "output_type": "execute_result"
    }
   ],
   "source": [
    "start_date = '2018-12-01'\n",
    "end_date = '2019-01-06'\n",
    "\n",
    "list_full_weeks(start_date, end_date)"
   ]
  },
  {
   "cell_type": "code",
   "execution_count": null,
   "metadata": {},
   "outputs": [],
   "source": []
  }
 ],
 "metadata": {
  "kernelspec": {
   "display_name": "Python 3",
   "language": "python",
   "name": "python3"
  },
  "language_info": {
   "codemirror_mode": {
    "name": "ipython",
    "version": 3
   },
   "file_extension": ".py",
   "mimetype": "text/x-python",
   "name": "python",
   "nbconvert_exporter": "python",
   "pygments_lexer": "ipython3",
   "version": "3.7.0"
  }
 },
 "nbformat": 4,
 "nbformat_minor": 2
}
